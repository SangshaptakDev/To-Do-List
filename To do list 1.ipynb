{
 "cells": [
  {
   "cell_type": "code",
   "execution_count": 4,
   "metadata": {},
   "outputs": [
    {
     "name": "stdout",
     "output_type": "stream",
     "text": [
      "* Running on local URL:  http://127.0.0.1:7863\n",
      "\n",
      "To create a public link, set `share=True` in `launch()`.\n"
     ]
    },
    {
     "data": {
      "text/html": [
       "<div><iframe src=\"http://127.0.0.1:7863/\" width=\"100%\" height=\"500\" allow=\"autoplay; camera; microphone; clipboard-read; clipboard-write;\" frameborder=\"0\" allowfullscreen></iframe></div>"
      ],
      "text/plain": [
       "<IPython.core.display.HTML object>"
      ]
     },
     "metadata": {},
     "output_type": "display_data"
    },
    {
     "data": {
      "text/plain": []
     },
     "execution_count": 4,
     "metadata": {},
     "output_type": "execute_result"
    }
   ],
   "source": [
    "import gradio as gr\n",
    "\n",
    "# Initialize the task list\n",
    "tasks = []\n",
    "\n",
    "# Function to add a task\n",
    "def add_task(task):\n",
    "    if task.strip():\n",
    "        tasks.append({\"task\": task, \"completed\": False})\n",
    "        return update_task_list(), f\"Task '{task}' added successfully!\"\n",
    "    return update_task_list(), \"Task cannot be empty!\"\n",
    "\n",
    "# Function to delete a task\n",
    "def delete_task(task_index):\n",
    "    if 0 <= task_index < len(tasks):\n",
    "        removed_task = tasks.pop(task_index)\n",
    "        return update_task_list(), f\"Task '{removed_task['task']}' deleted successfully!\"\n",
    "    return update_task_list(), \"Invalid task number.\"\n",
    "\n",
    "# Function to mark a task as complete\n",
    "def mark_task_complete(task_index):\n",
    "    if 0 <= task_index < len(tasks):\n",
    "        tasks[task_index]['completed'] = True\n",
    "        return update_task_list(), f\"Task '{tasks[task_index]['task']}' marked as complete!\"\n",
    "    return update_task_list(), \"Invalid task number.\"\n",
    "\n",
    "# Function to display the task list\n",
    "def update_task_list():\n",
    "    if not tasks:\n",
    "        return \"No tasks available.\"\n",
    "    task_display = \"\"\n",
    "    for i, task in enumerate(tasks):\n",
    "        status = \"✔ Completed\" if task['completed'] else \"❌ Incomplete\"\n",
    "        task_display += f\"{i + 1}. {task['task']} - {status}\\n\"\n",
    "    return task_display.strip()\n",
    "\n",
    "# Gradio Interface\n",
    "def app(action, task=\"\", task_index=0):\n",
    "    if action == \"Add Task\":\n",
    "        return add_task(task)\n",
    "    elif action == \"Delete Task\":\n",
    "        return delete_task(task_index - 1)\n",
    "    elif action == \"Mark Complete\":\n",
    "        return mark_task_complete(task_index - 1)\n",
    "    return update_task_list(), \"\"\n",
    "\n",
    "with gr.Blocks() as todo_app:\n",
    "    gr.Markdown(\"# 📝 To-Do List App\")\n",
    "    with gr.Row():\n",
    "        action = gr.Radio([\"Add Task\", \"Delete Task\", \"Mark Complete\"], label=\"Action\", value=\"Add Task\")\n",
    "    task_input = gr.Textbox(label=\"Task (for Add Task)\", placeholder=\"Enter your task here\")\n",
    "    task_index_input = gr.Number(label=\"Task Number (for Delete/Complete)\", value=0)\n",
    "    output = gr.Textbox(label=\"To-Do List\", lines=10, interactive=False)\n",
    "    message = gr.Textbox(label=\"Message\", lines=2, interactive=False)\n",
    "    submit = gr.Button(\"Submit\")\n",
    "\n",
    "    submit.click(app, [action, task_input, task_index_input], [output, message])\n",
    "\n",
    "todo_app.launch()\n"
   ]
  }
 ],
 "metadata": {
  "kernelspec": {
   "display_name": "Python 3",
   "language": "python",
   "name": "python3"
  },
  "language_info": {
   "codemirror_mode": {
    "name": "ipython",
    "version": 3
   },
   "file_extension": ".py",
   "mimetype": "text/x-python",
   "name": "python",
   "nbconvert_exporter": "python",
   "pygments_lexer": "ipython3",
   "version": "3.11.5"
  }
 },
 "nbformat": 4,
 "nbformat_minor": 2
}
